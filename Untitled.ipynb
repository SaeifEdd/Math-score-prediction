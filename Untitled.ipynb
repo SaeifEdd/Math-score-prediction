{
 "cells": [
  {
   "cell_type": "code",
   "execution_count": 19,
   "id": "c45e8b9f-c126-4117-8b5e-5afb4db5f44a",
   "metadata": {},
   "outputs": [],
   "source": [
    "import pandas as pd\n",
    "import seaborn as sns\n",
    "import matplotlib.pyplot as plt"
   ]
  },
  {
   "cell_type": "code",
   "execution_count": 35,
   "id": "a8c76d38",
   "metadata": {},
   "outputs": [
    {
     "name": "stdout",
     "output_type": "stream",
     "text": [
      "Collecting xgboostNote: you may need to restart the kernel to use updated packages.\n",
      "  Downloading xgboost-1.6.1-py3-none-win_amd64.whl (125.4 MB)\n",
      "Requirement already satisfied: scipy in c:\\users\\saeif\\anaconda3\\lib\\site-packages (from xgboost) (1.6.2)\n",
      "Requirement already satisfied: numpy in c:\\users\\saeif\\anaconda3\\lib\\site-packages (from xgboost) (1.19.5)\n",
      "Installing collected packages: xgboost\n",
      "Successfully installed xgboost-1.6.1\n",
      "\n"
     ]
    },
    {
     "name": "stderr",
     "output_type": "stream",
     "text": [
      "WARNING: You are using pip version 21.3.1; however, version 22.1.2 is available.\n",
      "You should consider upgrading via the 'C:\\Users\\saeif\\anaconda3\\python.exe -m pip install --upgrade pip' command.\n"
     ]
    }
   ],
   "source": [
    "pip install xgboost"
   ]
  },
  {
   "cell_type": "code",
   "execution_count": 20,
   "id": "8e3ee777-4b0e-4200-a442-395ddb065d1c",
   "metadata": {},
   "outputs": [
    {
     "data": {
      "text/html": [
       "<div>\n",
       "<style scoped>\n",
       "    .dataframe tbody tr th:only-of-type {\n",
       "        vertical-align: middle;\n",
       "    }\n",
       "\n",
       "    .dataframe tbody tr th {\n",
       "        vertical-align: top;\n",
       "    }\n",
       "\n",
       "    .dataframe thead th {\n",
       "        text-align: right;\n",
       "    }\n",
       "</style>\n",
       "<table border=\"1\" class=\"dataframe\">\n",
       "  <thead>\n",
       "    <tr style=\"text-align: right;\">\n",
       "      <th></th>\n",
       "      <th>gender</th>\n",
       "      <th>race/ethnicity</th>\n",
       "      <th>parental level of education</th>\n",
       "      <th>lunch</th>\n",
       "      <th>test preparation course</th>\n",
       "      <th>math score</th>\n",
       "      <th>reading score</th>\n",
       "      <th>writing score</th>\n",
       "    </tr>\n",
       "  </thead>\n",
       "  <tbody>\n",
       "    <tr>\n",
       "      <th>0</th>\n",
       "      <td>female</td>\n",
       "      <td>group B</td>\n",
       "      <td>bachelor's degree</td>\n",
       "      <td>standard</td>\n",
       "      <td>none</td>\n",
       "      <td>72</td>\n",
       "      <td>72</td>\n",
       "      <td>74</td>\n",
       "    </tr>\n",
       "    <tr>\n",
       "      <th>1</th>\n",
       "      <td>female</td>\n",
       "      <td>group C</td>\n",
       "      <td>some college</td>\n",
       "      <td>standard</td>\n",
       "      <td>completed</td>\n",
       "      <td>69</td>\n",
       "      <td>90</td>\n",
       "      <td>88</td>\n",
       "    </tr>\n",
       "    <tr>\n",
       "      <th>2</th>\n",
       "      <td>female</td>\n",
       "      <td>group B</td>\n",
       "      <td>master's degree</td>\n",
       "      <td>standard</td>\n",
       "      <td>none</td>\n",
       "      <td>90</td>\n",
       "      <td>95</td>\n",
       "      <td>93</td>\n",
       "    </tr>\n",
       "    <tr>\n",
       "      <th>3</th>\n",
       "      <td>male</td>\n",
       "      <td>group A</td>\n",
       "      <td>associate's degree</td>\n",
       "      <td>free/reduced</td>\n",
       "      <td>none</td>\n",
       "      <td>47</td>\n",
       "      <td>57</td>\n",
       "      <td>44</td>\n",
       "    </tr>\n",
       "    <tr>\n",
       "      <th>4</th>\n",
       "      <td>male</td>\n",
       "      <td>group C</td>\n",
       "      <td>some college</td>\n",
       "      <td>standard</td>\n",
       "      <td>none</td>\n",
       "      <td>76</td>\n",
       "      <td>78</td>\n",
       "      <td>75</td>\n",
       "    </tr>\n",
       "  </tbody>\n",
       "</table>\n",
       "</div>"
      ],
      "text/plain": [
       "   gender race/ethnicity parental level of education         lunch  \\\n",
       "0  female        group B           bachelor's degree      standard   \n",
       "1  female        group C                some college      standard   \n",
       "2  female        group B             master's degree      standard   \n",
       "3    male        group A          associate's degree  free/reduced   \n",
       "4    male        group C                some college      standard   \n",
       "\n",
       "  test preparation course  math score  reading score  writing score  \n",
       "0                    none          72             72             74  \n",
       "1               completed          69             90             88  \n",
       "2                    none          90             95             93  \n",
       "3                    none          47             57             44  \n",
       "4                    none          76             78             75  "
      ]
     },
     "execution_count": 20,
     "metadata": {},
     "output_type": "execute_result"
    }
   ],
   "source": [
    "data = pd.read_csv(\"C:/users/saeif/Documents/data_science_project/StudentsPerformance.csv\")\n",
    "data.head(5)"
   ]
  },
  {
   "cell_type": "code",
   "execution_count": 6,
   "id": "8e48d341-d6b9-44a0-9725-0fc4bee7d6d4",
   "metadata": {},
   "outputs": [
    {
     "data": {
      "text/plain": [
       "(1000, 8)"
      ]
     },
     "execution_count": 6,
     "metadata": {},
     "output_type": "execute_result"
    }
   ],
   "source": [
    "data.shape"
   ]
  },
  {
   "cell_type": "code",
   "execution_count": 3,
   "id": "41ab5c1b-c72d-4010-8b42-3802dd3ba795",
   "metadata": {},
   "outputs": [
    {
     "name": "stdout",
     "output_type": "stream",
     "text": [
      "<class 'pandas.core.frame.DataFrame'>\n",
      "RangeIndex: 1000 entries, 0 to 999\n",
      "Data columns (total 8 columns):\n",
      " #   Column                       Non-Null Count  Dtype \n",
      "---  ------                       --------------  ----- \n",
      " 0   gender                       1000 non-null   object\n",
      " 1   race/ethnicity               1000 non-null   object\n",
      " 2   parental level of education  1000 non-null   object\n",
      " 3   lunch                        1000 non-null   object\n",
      " 4   test preparation course      1000 non-null   object\n",
      " 5   math score                   1000 non-null   int64 \n",
      " 6   reading score                1000 non-null   int64 \n",
      " 7   writing score                1000 non-null   int64 \n",
      "dtypes: int64(3), object(5)\n",
      "memory usage: 62.6+ KB\n"
     ]
    }
   ],
   "source": [
    "data.info()"
   ]
  },
  {
   "cell_type": "code",
   "execution_count": 11,
   "id": "b1f11f2d-8448-4768-adc9-be37a237ea3f",
   "metadata": {},
   "outputs": [
    {
     "data": {
      "text/plain": [
       "array(['none', 'completed'], dtype=object)"
      ]
     },
     "execution_count": 11,
     "metadata": {},
     "output_type": "execute_result"
    }
   ],
   "source": [
    "data['test preparation course'].unique()"
   ]
  },
  {
   "cell_type": "code",
   "execution_count": 12,
   "id": "2bd751a7-3f8b-4d58-9a5f-27c2ec4362d5",
   "metadata": {},
   "outputs": [
    {
     "data": {
      "text/plain": [
       "array([\"bachelor's degree\", 'some college', \"master's degree\",\n",
       "       \"associate's degree\", 'high school', 'some high school'],\n",
       "      dtype=object)"
      ]
     },
     "execution_count": 12,
     "metadata": {},
     "output_type": "execute_result"
    }
   ],
   "source": [
    "data['parental level of education'].unique()"
   ]
  },
  {
   "cell_type": "code",
   "execution_count": 13,
   "id": "5615cdae-277e-40b8-b860-eb12605f1b01",
   "metadata": {},
   "outputs": [
    {
     "data": {
      "text/plain": [
       "array(['group B', 'group C', 'group A', 'group D', 'group E'],\n",
       "      dtype=object)"
      ]
     },
     "execution_count": 13,
     "metadata": {},
     "output_type": "execute_result"
    }
   ],
   "source": [
    "data['race/ethnicity'].unique()"
   ]
  },
  {
   "cell_type": "code",
   "execution_count": 15,
   "id": "311d8aaf-c421-44f7-8158-4f82ae856e98",
   "metadata": {},
   "outputs": [
    {
     "data": {
      "text/plain": [
       "array(['standard', 'free/reduced'], dtype=object)"
      ]
     },
     "execution_count": 15,
     "metadata": {},
     "output_type": "execute_result"
    }
   ],
   "source": [
    "data['lunch'].unique()"
   ]
  },
  {
   "cell_type": "code",
   "execution_count": 21,
   "id": "8526e92c-3f39-416a-b5bd-38322062aac0",
   "metadata": {},
   "outputs": [
    {
     "data": {
      "text/html": [
       "<div>\n",
       "<style scoped>\n",
       "    .dataframe tbody tr th:only-of-type {\n",
       "        vertical-align: middle;\n",
       "    }\n",
       "\n",
       "    .dataframe tbody tr th {\n",
       "        vertical-align: top;\n",
       "    }\n",
       "\n",
       "    .dataframe thead th {\n",
       "        text-align: right;\n",
       "    }\n",
       "</style>\n",
       "<table border=\"1\" class=\"dataframe\">\n",
       "  <thead>\n",
       "    <tr style=\"text-align: right;\">\n",
       "      <th></th>\n",
       "      <th>math score</th>\n",
       "      <th>reading score</th>\n",
       "      <th>writing score</th>\n",
       "    </tr>\n",
       "    <tr>\n",
       "      <th>gender</th>\n",
       "      <th></th>\n",
       "      <th></th>\n",
       "      <th></th>\n",
       "    </tr>\n",
       "  </thead>\n",
       "  <tbody>\n",
       "    <tr>\n",
       "      <th>female</th>\n",
       "      <td>63.633205</td>\n",
       "      <td>72.608108</td>\n",
       "      <td>72.467181</td>\n",
       "    </tr>\n",
       "    <tr>\n",
       "      <th>male</th>\n",
       "      <td>68.728216</td>\n",
       "      <td>65.473029</td>\n",
       "      <td>63.311203</td>\n",
       "    </tr>\n",
       "  </tbody>\n",
       "</table>\n",
       "</div>"
      ],
      "text/plain": [
       "        math score  reading score  writing score\n",
       "gender                                          \n",
       "female   63.633205      72.608108      72.467181\n",
       "male     68.728216      65.473029      63.311203"
      ]
     },
     "execution_count": 21,
     "metadata": {},
     "output_type": "execute_result"
    }
   ],
   "source": [
    "data.groupby(['gender']).mean(['math score'])"
   ]
  },
  {
   "cell_type": "code",
   "execution_count": 29,
   "id": "bf7f6ace-f054-454e-80d9-829049b80193",
   "metadata": {},
   "outputs": [
    {
     "data": {
      "text/html": [
       "<div>\n",
       "<style scoped>\n",
       "    .dataframe tbody tr th:only-of-type {\n",
       "        vertical-align: middle;\n",
       "    }\n",
       "\n",
       "    .dataframe tbody tr th {\n",
       "        vertical-align: top;\n",
       "    }\n",
       "\n",
       "    .dataframe thead th {\n",
       "        text-align: right;\n",
       "    }\n",
       "</style>\n",
       "<table border=\"1\" class=\"dataframe\">\n",
       "  <thead>\n",
       "    <tr style=\"text-align: right;\">\n",
       "      <th></th>\n",
       "      <th>math score</th>\n",
       "      <th>reading score</th>\n",
       "      <th>writing score</th>\n",
       "    </tr>\n",
       "    <tr>\n",
       "      <th>parental level of education</th>\n",
       "      <th></th>\n",
       "      <th></th>\n",
       "      <th></th>\n",
       "    </tr>\n",
       "  </thead>\n",
       "  <tbody>\n",
       "    <tr>\n",
       "      <th>associate's degree</th>\n",
       "      <td>67.882883</td>\n",
       "      <td>70.927928</td>\n",
       "      <td>69.896396</td>\n",
       "    </tr>\n",
       "    <tr>\n",
       "      <th>bachelor's degree</th>\n",
       "      <td>69.389831</td>\n",
       "      <td>73.000000</td>\n",
       "      <td>73.381356</td>\n",
       "    </tr>\n",
       "    <tr>\n",
       "      <th>high school</th>\n",
       "      <td>62.137755</td>\n",
       "      <td>64.704082</td>\n",
       "      <td>62.448980</td>\n",
       "    </tr>\n",
       "    <tr>\n",
       "      <th>master's degree</th>\n",
       "      <td>69.745763</td>\n",
       "      <td>75.372881</td>\n",
       "      <td>75.677966</td>\n",
       "    </tr>\n",
       "    <tr>\n",
       "      <th>some college</th>\n",
       "      <td>67.128319</td>\n",
       "      <td>69.460177</td>\n",
       "      <td>68.840708</td>\n",
       "    </tr>\n",
       "    <tr>\n",
       "      <th>some high school</th>\n",
       "      <td>63.497207</td>\n",
       "      <td>66.938547</td>\n",
       "      <td>64.888268</td>\n",
       "    </tr>\n",
       "  </tbody>\n",
       "</table>\n",
       "</div>"
      ],
      "text/plain": [
       "                             math score  reading score  writing score\n",
       "parental level of education                                          \n",
       "associate's degree            67.882883      70.927928      69.896396\n",
       "bachelor's degree             69.389831      73.000000      73.381356\n",
       "high school                   62.137755      64.704082      62.448980\n",
       "master's degree               69.745763      75.372881      75.677966\n",
       "some college                  67.128319      69.460177      68.840708\n",
       "some high school              63.497207      66.938547      64.888268"
      ]
     },
     "execution_count": 29,
     "metadata": {},
     "output_type": "execute_result"
    }
   ],
   "source": [
    "data.groupby(['parental level of education']).mean(['math score'])"
   ]
  },
  {
   "cell_type": "code",
   "execution_count": 37,
   "id": "b0476a04-f5f8-44ee-9e48-5fca33c0f632",
   "metadata": {},
   "outputs": [
    {
     "data": {
      "text/plain": [
       "some college          226\n",
       "associate's degree    222\n",
       "high school           196\n",
       "some high school      179\n",
       "bachelor's degree     118\n",
       "master's degree        59\n",
       "Name: parental level of education, dtype: int64"
      ]
     },
     "execution_count": 37,
     "metadata": {},
     "output_type": "execute_result"
    }
   ],
   "source": [
    "data['parental level of education'].value_counts()"
   ]
  },
  {
   "cell_type": "code",
   "execution_count": 7,
   "id": "8c4d246f",
   "metadata": {},
   "outputs": [
    {
     "data": {
      "text/plain": [
       "(array([  2.,   2.,  10.,  26.,  95., 188., 268., 216., 135.,  58.]),\n",
       " array([  0.,  10.,  20.,  30.,  40.,  50.,  60.,  70.,  80.,  90., 100.]),\n",
       " <BarContainer object of 10 artists>)"
      ]
     },
     "execution_count": 7,
     "metadata": {},
     "output_type": "execute_result"
    },
    {
     "data": {
      "image/png": "[encoded data removed]",
      "text/plain": [
       "<Figure size 432x288 with 1 Axes>"
      ]
     },
     "metadata": {
      "needs_background": "light"
     },
     "output_type": "display_data"
    }
   ],
   "source": [
    "plt.hist(data['math score'])"
   ]
  },
  {
   "cell_type": "code",
   "execution_count": 29,
   "id": "7e2ab373",
   "metadata": {},
   "outputs": [],
   "source": [
    "# Splitting data\n",
    "from sklearn.model_selection import train_test_split\n",
    "train, test = train_test_split(data, test_size = 0.2,random_state = 20)"
   ]
  },
  {
   "cell_type": "code",
   "execution_count": 30,
   "id": "eebbca6c",
   "metadata": {},
   "outputs": [],
   "source": [
    "X = train.drop(['math score'], axis = 1)\n",
    "y = train['math score']"
   ]
  },
  {
   "cell_type": "code",
   "execution_count": 31,
   "id": "5a7c96d0",
   "metadata": {},
   "outputs": [],
   "source": [
    "# Preprocessing:\n",
    "# One hot Encoding\n",
    "\n",
    "X = pd.get_dummies(X, columns = ['gender','race/ethnicity','parental level of education','lunch','test preparation course'])"
   ]
  },
  {
   "cell_type": "code",
   "execution_count": 32,
   "id": "925a53fe",
   "metadata": {},
   "outputs": [
    {
     "data": {
      "text/html": [
       "<div>\n",
       "<style scoped>\n",
       "    .dataframe tbody tr th:only-of-type {\n",
       "        vertical-align: middle;\n",
       "    }\n",
       "\n",
       "    .dataframe tbody tr th {\n",
       "        vertical-align: top;\n",
       "    }\n",
       "\n",
       "    .dataframe thead th {\n",
       "        text-align: right;\n",
       "    }\n",
       "</style>\n",
       "<table border=\"1\" class=\"dataframe\">\n",
       "  <thead>\n",
       "    <tr style=\"text-align: right;\">\n",
       "      <th></th>\n",
       "      <th>reading score</th>\n",
       "      <th>writing score</th>\n",
       "      <th>gender_female</th>\n",
       "      <th>gender_male</th>\n",
       "      <th>race/ethnicity_group A</th>\n",
       "      <th>race/ethnicity_group B</th>\n",
       "      <th>race/ethnicity_group C</th>\n",
       "      <th>race/ethnicity_group D</th>\n",
       "      <th>race/ethnicity_group E</th>\n",
       "      <th>parental level of education_associate's degree</th>\n",
       "      <th>parental level of education_bachelor's degree</th>\n",
       "      <th>parental level of education_high school</th>\n",
       "      <th>parental level of education_master's degree</th>\n",
       "      <th>parental level of education_some college</th>\n",
       "      <th>parental level of education_some high school</th>\n",
       "      <th>lunch_free/reduced</th>\n",
       "      <th>lunch_standard</th>\n",
       "      <th>test preparation course_completed</th>\n",
       "      <th>test preparation course_none</th>\n",
       "    </tr>\n",
       "  </thead>\n",
       "  <tbody>\n",
       "    <tr>\n",
       "      <th>504</th>\n",
       "      <td>59</td>\n",
       "      <td>54</td>\n",
       "      <td>1</td>\n",
       "      <td>0</td>\n",
       "      <td>0</td>\n",
       "      <td>0</td>\n",
       "      <td>0</td>\n",
       "      <td>1</td>\n",
       "      <td>0</td>\n",
       "      <td>0</td>\n",
       "      <td>0</td>\n",
       "      <td>0</td>\n",
       "      <td>1</td>\n",
       "      <td>0</td>\n",
       "      <td>0</td>\n",
       "      <td>1</td>\n",
       "      <td>0</td>\n",
       "      <td>0</td>\n",
       "      <td>1</td>\n",
       "    </tr>\n",
       "    <tr>\n",
       "      <th>839</th>\n",
       "      <td>77</td>\n",
       "      <td>73</td>\n",
       "      <td>1</td>\n",
       "      <td>0</td>\n",
       "      <td>0</td>\n",
       "      <td>0</td>\n",
       "      <td>1</td>\n",
       "      <td>0</td>\n",
       "      <td>0</td>\n",
       "      <td>1</td>\n",
       "      <td>0</td>\n",
       "      <td>0</td>\n",
       "      <td>0</td>\n",
       "      <td>0</td>\n",
       "      <td>0</td>\n",
       "      <td>0</td>\n",
       "      <td>1</td>\n",
       "      <td>0</td>\n",
       "      <td>1</td>\n",
       "    </tr>\n",
       "    <tr>\n",
       "      <th>141</th>\n",
       "      <td>62</td>\n",
       "      <td>64</td>\n",
       "      <td>1</td>\n",
       "      <td>0</td>\n",
       "      <td>0</td>\n",
       "      <td>0</td>\n",
       "      <td>1</td>\n",
       "      <td>0</td>\n",
       "      <td>0</td>\n",
       "      <td>0</td>\n",
       "      <td>0</td>\n",
       "      <td>0</td>\n",
       "      <td>0</td>\n",
       "      <td>1</td>\n",
       "      <td>0</td>\n",
       "      <td>1</td>\n",
       "      <td>0</td>\n",
       "      <td>0</td>\n",
       "      <td>1</td>\n",
       "    </tr>\n",
       "    <tr>\n",
       "      <th>825</th>\n",
       "      <td>67</td>\n",
       "      <td>58</td>\n",
       "      <td>0</td>\n",
       "      <td>1</td>\n",
       "      <td>0</td>\n",
       "      <td>0</td>\n",
       "      <td>1</td>\n",
       "      <td>0</td>\n",
       "      <td>0</td>\n",
       "      <td>0</td>\n",
       "      <td>0</td>\n",
       "      <td>1</td>\n",
       "      <td>0</td>\n",
       "      <td>0</td>\n",
       "      <td>0</td>\n",
       "      <td>0</td>\n",
       "      <td>1</td>\n",
       "      <td>0</td>\n",
       "      <td>1</td>\n",
       "    </tr>\n",
       "    <tr>\n",
       "      <th>470</th>\n",
       "      <td>85</td>\n",
       "      <td>90</td>\n",
       "      <td>1</td>\n",
       "      <td>0</td>\n",
       "      <td>0</td>\n",
       "      <td>0</td>\n",
       "      <td>1</td>\n",
       "      <td>0</td>\n",
       "      <td>0</td>\n",
       "      <td>1</td>\n",
       "      <td>0</td>\n",
       "      <td>0</td>\n",
       "      <td>0</td>\n",
       "      <td>0</td>\n",
       "      <td>0</td>\n",
       "      <td>0</td>\n",
       "      <td>1</td>\n",
       "      <td>1</td>\n",
       "      <td>0</td>\n",
       "    </tr>\n",
       "  </tbody>\n",
       "</table>\n",
       "</div>"
      ],
      "text/plain": [
       "     reading score  writing score  gender_female  gender_male  \\\n",
       "504             59             54              1            0   \n",
       "839             77             73              1            0   \n",
       "141             62             64              1            0   \n",
       "825             67             58              0            1   \n",
       "470             85             90              1            0   \n",
       "\n",
       "     race/ethnicity_group A  race/ethnicity_group B  race/ethnicity_group C  \\\n",
       "504                       0                       0                       0   \n",
       "839                       0                       0                       1   \n",
       "141                       0                       0                       1   \n",
       "825                       0                       0                       1   \n",
       "470                       0                       0                       1   \n",
       "\n",
       "     race/ethnicity_group D  race/ethnicity_group E  \\\n",
       "504                       1                       0   \n",
       "839                       0                       0   \n",
       "141                       0                       0   \n",
       "825                       0                       0   \n",
       "470                       0                       0   \n",
       "\n",
       "     parental level of education_associate's degree  \\\n",
       "504                                               0   \n",
       "839                                               1   \n",
       "141                                               0   \n",
       "825                                               0   \n",
       "470                                               1   \n",
       "\n",
       "     parental level of education_bachelor's degree  \\\n",
       "504                                              0   \n",
       "839                                              0   \n",
       "141                                              0   \n",
       "825                                              0   \n",
       "470                                              0   \n",
       "\n",
       "     parental level of education_high school  \\\n",
       "504                                        0   \n",
       "839                                        0   \n",
       "141                                        0   \n",
       "825                                        1   \n",
       "470                                        0   \n",
       "\n",
       "     parental level of education_master's degree  \\\n",
       "504                                            1   \n",
       "839                                            0   \n",
       "141                                            0   \n",
       "825                                            0   \n",
       "470                                            0   \n",
       "\n",
       "     parental level of education_some college  \\\n",
       "504                                         0   \n",
       "839                                         0   \n",
       "141                                         1   \n",
       "825                                         0   \n",
       "470                                         0   \n",
       "\n",
       "     parental level of education_some high school  lunch_free/reduced  \\\n",
       "504                                             0                   1   \n",
       "839                                             0                   0   \n",
       "141                                             0                   1   \n",
       "825                                             0                   0   \n",
       "470                                             0                   0   \n",
       "\n",
       "     lunch_standard  test preparation course_completed  \\\n",
       "504               0                                  0   \n",
       "839               1                                  0   \n",
       "141               0                                  0   \n",
       "825               1                                  0   \n",
       "470               1                                  1   \n",
       "\n",
       "     test preparation course_none  \n",
       "504                             1  \n",
       "839                             1  \n",
       "141                             1  \n",
       "825                             1  \n",
       "470                             0  "
      ]
     },
     "execution_count": 32,
     "metadata": {},
     "output_type": "execute_result"
    }
   ],
   "source": [
    "X.head()"
   ]
  },
  {
   "cell_type": "code",
   "execution_count": 53,
   "id": "3cba1a7d",
   "metadata": {},
   "outputs": [],
   "source": [
    "# import models\n",
    "from sklearn.linear_model import LinearRegression, Ridge, Lasso\n",
    "from sklearn.tree import DecisionTreeRegressor \n",
    "from sklearn.ensemble import RandomForestRegressor, ExtraTreesRegressor\n",
    "from xgboost import XGBRegressor\n",
    "\n",
    "# import metrics\n",
    "from sklearn.metrics import mean_squared_error, mean_absolute_error, r2_score"
   ]
  },
  {
   "cell_type": "code",
   "execution_count": 38,
   "id": "c0e7425c",
   "metadata": {},
   "outputs": [],
   "source": [
    "x_train, x_val, y_train, y_val = train_test_split(X,y, test_size = 0.2)"
   ]
  },
  {
   "cell_type": "code",
   "execution_count": 42,
   "id": "dee4231b",
   "metadata": {},
   "outputs": [
    {
     "name": "stdout",
     "output_type": "stream",
     "text": [
      "R Squared Error :  0.8844702160773575\n",
      "Mean absolute error :  4.149618994326953\n",
      "Mean squared error :  27.103755519778566\n",
      "R Squared Error :  0.8519776117014537\n",
      "Mean absolute error :  4.420930851183971\n",
      "Mean squared error :  31.311337696278713\n"
     ]
    }
   ],
   "source": [
    "# fit the first model \n",
    "model1 = LinearRegression()\n",
    "model1.fit(x_train, y_train)\n",
    "\n",
    "# evaluate the model\n",
    "train_pred = model1.predict(x_train)\n",
    "val_pred = model1.predict(x_val)\n",
    "print('*********************************************************')\n",
    "print(\"R Squared Error : \", r2_score(y_train, train_pred) )\n",
    "print(\"Mean absolute error : \", mean_absolute_error(y_train, train_pred))\n",
    "print(\"Mean squared error : \", mean_squared_error(y_train, train_pred))\n",
    "print('*********************************************************')\n",
    "print(\"R Squared Error : \", r2_score(y_val, val_pred) )\n",
    "print(\"Mean absolute error : \", mean_absolute_error(y_val, val_pred))\n",
    "print(\"Mean squared error : \", mean_squared_error(y_val, val_pred))\n"
   ]
  },
  {
   "cell_type": "code",
   "execution_count": 49,
   "id": "d435e24f",
   "metadata": {},
   "outputs": [
    {
     "name": "stdout",
     "output_type": "stream",
     "text": [
      "*********************************************************\n",
      "R Squared Error :  0.884469156739944\n",
      "Mean absolute error :  4.149881026167174\n",
      "Mean squared error :  27.104004044629004\n",
      "*********************************************************\n",
      "R Squared Error :  0.8519136154277167\n",
      "Mean absolute error :  4.420442551915508\n",
      "Mean squared error :  31.324874898058198\n"
     ]
    }
   ],
   "source": [
    "# second model \n",
    "model2 = Ridge(alpha = 0.5)\n",
    "model2.fit(x_train, y_train)\n",
    "\n",
    "# evaluate the model\n",
    "train_pred = model2.predict(x_train)\n",
    "val_pred = model2.predict(x_val)\n",
    "print('*********************************************************')\n",
    "print(\"R Squared Error : \", r2_score(y_train, train_pred) )\n",
    "print(\"Mean absolute error : \", mean_absolute_error(y_train, train_pred))\n",
    "print(\"Mean squared error : \", mean_squared_error(y_train, train_pred))\n",
    "print(\"*********************************************************\")\n",
    "print(\"R Squared Error : \", r2_score(y_val, val_pred) )\n",
    "print(\"Mean absolute error : \", mean_absolute_error(y_val, val_pred))\n",
    "print(\"Mean squared error : \", mean_squared_error(y_val, val_pred))"
   ]
  },
  {
   "cell_type": "code",
   "execution_count": 50,
   "id": "c754895e",
   "metadata": {},
   "outputs": [
    {
     "name": "stdout",
     "output_type": "stream",
     "text": [
      "*********************************************************\n",
      "R Squared Error :  0.9996669921125001\n",
      "Mean absolute error :  0.015625\n",
      "Mean squared error :  0.078125\n",
      "*********************************************************\n",
      "R Squared Error :  0.68042523299249\n",
      "Mean absolute error :  6.7\n",
      "Mean squared error :  67.6\n"
     ]
    }
   ],
   "source": [
    "# 3rd model\n",
    "model3 = DecisionTreeRegressor()\n",
    "model3.fit(x_train, y_train)\n",
    "\n",
    "# evaluate the model\n",
    "train_pred = model3.predict(x_train)\n",
    "val_pred = model3.predict(x_val)\n",
    "print('*********************************************************')\n",
    "print(\"R Squared Error : \", r2_score(y_train, train_pred) )\n",
    "print(\"Mean absolute error : \", mean_absolute_error(y_train, train_pred))\n",
    "print(\"Mean squared error : \", mean_squared_error(y_train, train_pred))\n",
    "print('*********************************************************')\n",
    "print(\"R Squared Error : \", r2_score(y_val, val_pred) )\n",
    "print(\"Mean absolute error : \", mean_absolute_error(y_val, val_pred))\n",
    "print(\"Mean squared error : \", mean_squared_error(y_val, val_pred))"
   ]
  },
  {
   "cell_type": "code",
   "execution_count": 51,
   "id": "2d25608d",
   "metadata": {},
   "outputs": [
    {
     "name": "stdout",
     "output_type": "stream",
     "text": [
      "*********************************************************\n",
      "                                                          \n",
      "R Squared Error :  0.9784885985245114\n",
      "Mean absolute error :  1.7901223958333332\n",
      "Mean squared error :  5.046661966145832\n",
      "*********************************************************\n",
      "                                                         \n",
      "R Squared Error :  0.8277292966763242\n",
      "Mean absolute error :  4.7867395833333335\n",
      "Mean squared error :  36.44061029513889\n"
     ]
    }
   ],
   "source": [
    "# 4th model\n",
    "model4 = RandomForestRegressor()\n",
    "model4.fit(x_train, y_train)\n",
    "\n",
    "# evaluate the model\n",
    "train_pred = model4.predict(x_train)\n",
    "val_pred = model4.predict(x_val)\n",
    "print('*********************************************************')\n",
    "print(\"                                                          \")\n",
    "print(\"R Squared Error : \", r2_score(y_train, train_pred) )\n",
    "print(\"Mean absolute error : \", mean_absolute_error(y_train, train_pred))\n",
    "print(\"Mean squared error : \", mean_squared_error(y_train, train_pred))\n",
    "print('*********************************************************')\n",
    "print(\"                                                         \")\n",
    "print(\"R Squared Error : \", r2_score(y_val, val_pred) )\n",
    "print(\"Mean absolute error : \", mean_absolute_error(y_val, val_pred))\n",
    "print(\"Mean squared error : \", mean_squared_error(y_val, val_pred))"
   ]
  },
  {
   "cell_type": "code",
   "execution_count": 52,
   "id": "29b9eb5a",
   "metadata": {},
   "outputs": [
    {
     "name": "stdout",
     "output_type": "stream",
     "text": [
      "*********************************************************\n",
      "R Squared Error :  0.997755255091597\n",
      "Mean absolute error :  0.4543401636183262\n",
      "Mean squared error :  0.5266262528661858\n",
      "*********************************************************\n",
      "R Squared Error :  0.8009731959714683\n",
      "Mean absolute error :  5.2516426086425785\n",
      "Mean squared error :  42.100357541722225\n"
     ]
    }
   ],
   "source": [
    "# 5th model\n",
    "model5 = XGBRegressor()\n",
    "model5.fit(x_train, y_train)\n",
    "\n",
    "# evaluate the model\n",
    "train_pred = model5.predict(x_train)\n",
    "val_pred = model5.predict(x_val)\n",
    "print('*********************************************************')\n",
    "print(\"R Squared Error : \", r2_score(y_train, train_pred) )\n",
    "print(\"Mean absolute error : \", mean_absolute_error(y_train, train_pred))\n",
    "print(\"Mean squared error : \", mean_squared_error(y_train, train_pred))\n",
    "print('*********************************************************')\n",
    "print(\"R Squared Error : \", r2_score(y_val, val_pred) )\n",
    "print(\"Mean absolute error : \", mean_absolute_error(y_val, val_pred))\n",
    "print(\"Mean squared error : \", mean_squared_error(y_val, val_pred))"
   ]
  },
  {
   "cell_type": "code",
   "execution_count": 55,
   "id": "f53f307b",
   "metadata": {},
   "outputs": [
    {
     "name": "stdout",
     "output_type": "stream",
     "text": [
      "*********************************************************\n",
      "R Squared Error :  0.9996669015343547\n",
      "Mean absolute error :  0.015937499999999983\n",
      "Mean squared error :  0.07814625\n",
      "*********************************************************\n",
      "R Squared Error :  0.8135665191066029\n",
      "Mean absolute error :  5.1250625\n",
      "Mean squared error :  39.43647812500001\n"
     ]
    }
   ],
   "source": [
    "# 6th model\n",
    "model6 = ExtraTreesRegressor()\n",
    "model6.fit(x_train, y_train)\n",
    "\n",
    "# evaluate the model\n",
    "train_pred = model6.predict(x_train)\n",
    "val_pred = model6.predict(x_val)\n",
    "print('*********************************************************')\n",
    "print(\"R Squared Error : \", r2_score(y_train, train_pred) )\n",
    "print(\"Mean absolute error : \", mean_absolute_error(y_train, train_pred))\n",
    "print(\"Mean squared error : \", mean_squared_error(y_train, train_pred))\n",
    "print('*********************************************************')\n",
    "print(\"R Squared Error : \", r2_score(y_val, val_pred) )\n",
    "print(\"Mean absolute error : \", mean_absolute_error(y_val, val_pred))\n",
    "print(\"Mean squared error : \", mean_squared_error(y_val, val_pred))"
   ]
  },
  {
   "cell_type": "code",
   "execution_count": null,
   "id": "957a72e4",
   "metadata": {},
   "outputs": [],
   "source": []
  }
 ],
 "metadata": {
  "kernelspec": {
   "display_name": "Python 3",
   "language": "python",
   "name": "python3"
  },
  "language_info": {
   "codemirror_mode": {
    "name": "ipython",
    "version": 3
   },
   "file_extension": ".py",
   "mimetype": "text/x-python",
   "name": "python",
   "nbconvert_exporter": "python",
   "pygments_lexer": "ipython3",
   "version": "3.8.8"
  }
 },
 "nbformat": 4,
 "nbformat_minor": 5
}
